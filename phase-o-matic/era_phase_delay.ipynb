{
 "cells": [
  {
   "cell_type": "code",
   "execution_count": 1,
   "metadata": {},
   "outputs": [
    {
     "data": {
      "text/plain": [
       "'Computes the delay function given Pressure, Temperature and Vapor pressure.\\n\\n    Args:\\n        * Presi (np.ndarray) : Pressure at height levels.\\n        * Tempi (np.ndarray) : Temperature at height levels.\\n        * Vpri  (np.ndarray) : Vapor pressure at height levels.\\n        * hgt   (np.ndarray) : Height levels.\\n        * cdict (np.ndarray) : Dictionary of constants.\\n\\n    Returns:\\n        * DDry2 (np.ndarray) : Dry component of atmospheric delay.\\n        * DWet2 (np.ndarray) : Wet component of atmospheric delay.\\n\\n    .. note::\\n        Computes refractive index at each altitude and integrates the delay using cumtrapz.'"
      ]
     },
     "execution_count": 1,
     "metadata": {},
     "output_type": "execute_result"
    }
   ],
   "source": [
    "# https://github.com/insarlab/PyAPS/blob/244552cdfcf4e1a55de5f1439be4f08eb45872ec/src/pyaps3/processor.py#L182\n",
    "\n",
    "'''Computes the delay function given Pressure, Temperature and Vapor pressure.\n",
    "\n",
    "    Args:\n",
    "        * Presi (np.ndarray) : Pressure at height levels.\n",
    "        * Tempi (np.ndarray) : Temperature at height levels.\n",
    "        * Vpri  (np.ndarray) : Vapor pressure at height levels.\n",
    "        * hgt   (np.ndarray) : Height levels.\n",
    "        * cdict (np.ndarray) : Dictionary of constants.\n",
    "\n",
    "    Returns:\n",
    "        * DDry2 (np.ndarray) : Dry component of atmospheric delay.\n",
    "        * DWet2 (np.ndarray) : Wet component of atmospheric delay.\n",
    "\n",
    "    .. note::\n",
    "        Computes refractive index at each altitude and integrates the delay using cumtrapz.'''"
   ]
  },
  {
   "cell_type": "code",
   "execution_count": 1,
   "metadata": {},
   "outputs": [],
   "source": [
    "from pathlib import Path\n",
    "import numpy as np\n",
    "import pandas as pd\n",
    "import xarray as xr\n",
    "import rioxarray as rxa\n",
    "import matplotlib.pyplot as plt\n",
    "\n",
    "from era import initconst"
   ]
  },
  {
   "cell_type": "code",
   "execution_count": null,
   "metadata": {},
   "outputs": [],
   "source": [
    "era = xr.open_dataset('/bsuhome/zacharykeskinen/scratch/era5/ERA5_N45_N46_W116_W115_2020-01-01 00:00:00_0000.nc').sel(time = '2020-01-01')\n",
    "\n",
    "era = era.transpose()\n",
    "Presi = era['z'].data # \n",
    "Tempi = era['t'].data\n",
    "Vpri = era['q'].data\n",
    "hgt = era['level'].data\n",
    "\n",
    "nhgt = len(hgt)              #Number of height points\n",
    "nlat = Presi.shape[0]        #Number of stations\n",
    "nlon = Presi.shape[1]\n",
    "WonT = Vpri/Tempi\n",
    "WonT2 = WonT/Tempi\n",
    "\n",
    "cdict = initconst()\n",
    "k1 = cdict['k1']\n",
    "Rd = cdict['Rd']\n",
    "Rv = cdict['Rv']\n",
    "k2 = cdict['k2']\n",
    "k3 = cdict['k3']\n",
    "g = cdict['g']\n",
    "\n",
    "#Dry delay\n",
    "DDry2 = np.zeros((nlat,nlon,nhgt))\n",
    "DDry2[:,:,:] = k1*Rd*(Presi[:,:,:] - Presi[:,:,-1][:,:,np.newaxis])*1.0e-6/g\n",
    "\n",
    "import scipy\n",
    "\n",
    "#Wet delay\n",
    "S1 = scipy.integrate.cumtrapz(WonT,x=hgt,axis=-1)\n",
    "val = 2*S1[:,:,-1]-S1[:,:,-2]\n",
    "val = val[:,:,None]\n",
    "S1 = np.concatenate((S1,val),axis=-1)\n",
    "# del WonT\n",
    "\n",
    "S2 = scipy.integrate.cumtrapz(WonT2,x=hgt,axis=-1)\n",
    "val = 2*S2[:,:,-1]-S2[:,:,-2]\n",
    "val = val[:,:,None]\n",
    "S2 = np.concatenate((S2,val),axis=-1)\n",
    "DWet2 = -1.0e-6*((k2-k1*Rd/Rv)*S1+k3*S2)\n",
    "\n",
    "for i in range(nlat):\n",
    "    for j in range(nlon):\n",
    "        DWet2[i,j,:]  = DWet2[i,j,:] - DWet2[i,j,-1]\n",
    "\n",
    "era['dry_delay'] = xr.DataArray(DDry2, coords = [era.longitude, era.latitude, era.level], dims = ['longitude','latitude', 'level'])\n",
    "era['wet_delay'] = xr.DataArray(DWet2, coords = [era.longitude, era.latitude, era.level], dims = ['longitude','latitude', 'level'])"
   ]
  },
  {
   "cell_type": "code",
   "execution_count": null,
   "metadata": {},
   "outputs": [],
   "source": [
    "era['wet_delay'].isel(level = 10).plot()"
   ]
  }
 ],
 "metadata": {
  "kernelspec": {
   "display_name": "validation",
   "language": "python",
   "name": "python3"
  },
  "language_info": {
   "codemirror_mode": {
    "name": "ipython",
    "version": 3
   },
   "file_extension": ".py",
   "mimetype": "text/x-python",
   "name": "python",
   "nbconvert_exporter": "python",
   "pygments_lexer": "ipython3",
   "version": "3.11.3"
  },
  "orig_nbformat": 4
 },
 "nbformat": 4,
 "nbformat_minor": 2
}
