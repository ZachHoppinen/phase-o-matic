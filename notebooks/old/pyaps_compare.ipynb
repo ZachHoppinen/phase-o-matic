{
 "cells": [
  {
   "cell_type": "code",
   "execution_count": null,
   "metadata": {},
   "outputs": [],
   "source": [
    "import numpy as np\n",
    "import pandas as pd\n",
    "import xarray as xr\n",
    "import rioxarray as rxa\n",
    "from shapely import geometry\n",
    "import matplotlib.pyplot as plt\n",
    "\n",
    "import sys\n",
    "sys.path.append('..')\n",
    "\n",
    "from phase_o_matic.download import download_era\n",
    "from phase_o_matic.preprocess import get_vapor_partial_pressure, convert_pressure_to_pascals, interpolate_to_heights\n",
    "from phase_o_matic.phase_delay import calculate_refractive_indexes"
   ]
  },
  {
   "cell_type": "code",
   "execution_count": null,
   "metadata": {},
   "outputs": [],
   "source": [
    "import pyaps3 as pa\n",
    "import os\n",
    "import matplotlib.pyplot as plt\n",
    "\n",
    "data_dir = '/Users/zachkeskinen/Documents/phase-o-matic/PyAPS/tests/data'\n",
    "# read geometry files\n",
    "print('read ISCE geometry files: hgt/los/lat/lon.rdr')\n",
    "dem = pa.utils.read_data(os.path.join(data_dir, 'hgt.rdr'))\n",
    "inc = pa.utils.read_data(os.path.join(data_dir, 'los.rdr'), dname='inc')\n",
    "lat = pa.utils.read_data(os.path.join(data_dir, 'lat.rdr'))\n",
    "lon = pa.utils.read_data(os.path.join(data_dir, 'lon.rdr'))\n",
    "\n",
    "# calculate\n",
    "print('calculate tropospheric delay from GRB files...')\n",
    "print('------------------------------------------------')\n",
    "grb_file1 = os.path.join(data_dir, 'ERA5/ERA5_N30_N40_E120_E140_20101017_14.grb')\n",
    "grb_file2 = os.path.join(data_dir, 'ERA5/ERA5_N30_N40_E120_E140_20110117_14.grb')\n",
    "obj1 = pa.PyAPS(grb_file1, dem=dem, inc=inc, lat=lat, lon=lon, grib='ERA5', verb=True)\n",
    "obj2 = pa.PyAPS(grb_file2, dem=dem, inc=inc, lat=lat, lon=lon, grib='ERA5', verb=True)\n",
    "phs = obj2.getdelay(wvl = 0.238403545) - obj1.getdelay(wvl = 0.238403545)\n",
    "\n",
    "# plot\n",
    "date12 = '{}_{}'.format(grb_file1.split('_')[-2], grb_file2.split('_')[-2])\n",
    "titles = [f'Tropospheric delay\\n{date12}', 'Height']\n",
    "fig, axs = plt.subplots(nrows=1, ncols=2, figsize=[10, 6])\n",
    "for ax, data, title in zip(axs, [phs, dem], titles):\n",
    "    im = ax.imshow(data, interpolation='nearest')\n",
    "    # axis format\n",
    "    ax.invert_yaxis()\n",
    "    ax.set_title(title)\n",
    "    cbar = fig.colorbar(im, ax=ax)\n",
    "    cbar.set_label('meter')\n",
    "fig.tight_layout()\n",
    "\n",
    "print('------------------------------------------------')\n",
    "print('Passed tropospheric delay calculation from ERA5.')\n",
    "print('------------------------------------------------')\n",
    "plt.show()"
   ]
  },
  {
   "cell_type": "code",
   "execution_count": null,
   "metadata": {},
   "outputs": [],
   "source": [
    "xr.DataArray(obj1.dem, coords = [obj1.lat[:,0], obj1.lon[0, :]], dims = ['latitude', 'longitude'])"
   ]
  },
  {
   "cell_type": "code",
   "execution_count": null,
   "metadata": {},
   "outputs": [],
   "source": [
    "# interpolate delays to uavsar\n",
    "# SNWE: (33.85, 30.05, 129.05, 132.45)\n",
    "# N30_N40_E120_E140\n",
    "geom = geometry.box(129.05, 30.05, 132.45, 33.85)\n",
    "time1 = pd.to_datetime('2010-10-17T14:00')\n",
    "time2 = pd.to_datetime('2011-01-17T14:00')\n",
    "time_DAs = []\n",
    "max_alt = None\n",
    "for time in [time1, time2]:\n",
    "    fp = download_era(date = time, out_dir = '../data/', subset = geom, LOS = False, humid_param='specific_humidity')\n",
    "    # fp = f\"/Users/zachkeskinen/Documents/phase-o-matic/data/ERA5_{time.strftime('%Y-%m-%dT%H')}:00_-116.31_43.59_-114.90_44.46.nc\"\n",
    "    era = xr.open_dataset(fp) #'../data/ERA5_2021-01-15T12:00_-116.31_43.59_-114.90_44.46.nc'\n",
    "    era = convert_pressure_to_pascals(era)\n",
    "    era = get_vapor_partial_pressure(era)\n",
    "    # max_alt = (geom['dem'] + np.abs(geom['lkv_z'])).max() if max_alt is None else max_alt\n",
    "    ds = interpolate_to_heights(era, max_alt = 42000)\n",
    "    ds = calculate_refractive_indexes(ds)\n",
    "    # new stuff below\n",
    "    # ds = ds.interp_like(geom, method = 'linear', kwargs={\"fill_value\": \"extrapolate\"})\n",
    "    # ds = ds.interp(height = np.round(np.arange(geom['dem'].min()-2, geom['dem'].max()+2)), method = 'linear')\n",
    "    time_DAs.append(ds)\n",
    "ds = xr.concat(time_DAs, dim = 'time')"
   ]
  },
  {
   "cell_type": "code",
   "execution_count": null,
   "metadata": {},
   "outputs": [],
   "source": [
    "# import pygrib\n",
    "# lvls = np.array([1, 2, 3, 5, 7, 10, 20, 30, 50, 70, 100, 125, 150, 175, \n",
    "#                      200, 225, 250, 300, 350, 400, 450, 500, 550, 600, 650, 700, 750, 775, \n",
    "#                      800, 825, 850, 875, 900, 925, 950, 975, 1000])\n",
    "# nlvls = len(lvls)\n",
    "# minlat, maxlat, minlon, maxlon = obj1.minlat, obj1.maxlat, obj1.minlon, obj1.maxlon\n",
    "\n",
    "# from era import initconst\n",
    "# cdic = initconst()\n",
    "# humidity = obj1.humidity\n",
    "# alpha = cdic['Rv']/cdic['Rd']\n",
    "# gphind = np.arange(nlvls)*12+1\n",
    "# verbose = True\n",
    "\n",
    "# grbs = pygrib.open(obj1.gfile)\n",
    "# grbs.seek(gphind[0])\n",
    "# grb=grbs.read(1)[0]\n",
    "# lats, lons = grb.latlons()\n",
    "# g = cdic['g']\n",
    "# mask = (lats > minlat) & (lats < maxlat) & (lons > minlon) & (lons < maxlon)\n",
    "# [ii,jj] = np.where(mask == True)\n",
    "# del mask\n",
    "# latlist = lats[ii,jj]\n",
    "# lonlist = lons[ii,jj]\n",
    "# nstn = len(ii)\n",
    "\n",
    "# ####Create arrays for 3D storage\n",
    "# gph = np.zeros((nlvls, nstn))     #Potential height\n",
    "# tmp = gph.copy()                  #Temperature\n",
    "# vpr = gph.copy()                  #Vapor pressure\n",
    "# if verbose:\n",
    "#     print('Number of stations:', nstn)\n",
    "\n",
    "# lvls = 100.0*lvls                 #Conversion to absolute pressure\n",
    "# for i in range(nlvls):\n",
    "#     grbs.seek(gphind[i])          #Reading potential height.\n",
    "#     grb = grbs.read(3)\n",
    "#     val = grb[0].values\n",
    "#     gph[i,:] = val[ii,jj]/g\n",
    "\n",
    "#     val = grb[1].values           #Reading temperature\n",
    "#     temp = val[ii,jj]\n",
    "#     tmp[i,:] = temp\n",
    "\n",
    "#     if humidity in ('R'):\n",
    "#         esat = cc_era(temp,cdic)      \n",
    "#         grbs.seek(gphind[i]+6)\n",
    "#         grb = grbs.read(1)\n",
    "#         val = grb[0].values\n",
    "#         temp = val[ii,jj]/100.0\n",
    "#         vpr[i,:] = temp*esat\n",
    "            \n",
    "#     elif humidity in ('Q'):\n",
    "#         print(grb[1])\n",
    "#         val = grb[1].values       #Specific humidity\n",
    "#         print(lvls[i])\n",
    "#         temp = val[ii,jj]\n",
    "#         print(temp[0])\n",
    "#         vpr[i,:] = temp*lvls[i]*alpha/(1+(alpha - 1)*temp)\n",
    "#         print(vpr[i, 0])\n",
    "#         print('--')\n"
   ]
  },
  {
   "cell_type": "code",
   "execution_count": null,
   "metadata": {},
   "outputs": [],
   "source": [
    "from pyaps3.processor import PTV2del\n",
    "dry, wet = PTV2del(obj1.Pi,obj1.Ti,obj1.Vi,obj1.hgt,obj1.dict,verbose=True)"
   ]
  },
  {
   "cell_type": "code",
   "execution_count": null,
   "metadata": {},
   "outputs": [],
   "source": [
    "ds['N_wet'].isel(time = 0, longitude = 0, latitude = 0).plot()"
   ]
  },
  {
   "cell_type": "code",
   "execution_count": null,
   "metadata": {},
   "outputs": [],
   "source": [
    "plt.plot(wet[0,0])"
   ]
  },
  {
   "cell_type": "code",
   "execution_count": null,
   "metadata": {},
   "outputs": [],
   "source": [
    "from pyaps3.era import get_ecmwf\n",
    "lvls,latlist,lonlist,gph,tmp,vpr,humid = get_ecmwf(obj1.model, obj1.gfile, obj1.minlat, obj1.maxlat, obj1.minlon, obj1.maxlon, obj1.dict, extra= True)"
   ]
  },
  {
   "cell_type": "code",
   "execution_count": null,
   "metadata": {},
   "outputs": [],
   "source": [
    "q = xr.DataArray(humid.reshape(*latlist.shape, *lvls.shape), coords = [latlist[:,0], lonlist[0, :], lvls], dims = ['latitude', 'longitude','level']).to_dataset(name = 'q')"
   ]
  },
  {
   "cell_type": "code",
   "execution_count": null,
   "metadata": {},
   "outputs": [],
   "source": [
    "era.sel(latitude = q.isel(latitude = 0).latitude, method='nearest')['q'].plot()"
   ]
  },
  {
   "cell_type": "code",
   "execution_count": null,
   "metadata": {},
   "outputs": [],
   "source": [
    "q.transpose()['q'].isel(latitude = 0, ).data #() #get_vapor_partial_pressure(q)"
   ]
  },
  {
   "cell_type": "code",
   "execution_count": null,
   "metadata": {},
   "outputs": [],
   "source": [
    "fig, axes = plt.subplots(3)\n",
    "lat_i = 0\n",
    "lon_i = 0\n",
    "\n",
    "ax = axes[0]\n",
    "ds['temperature'].isel(time = 0).sel(latitude= obj1.latlist[lat_i,0], longitude = obj1.lonlist[0,lon_i], method = 'nearest').plot(ax = ax)\n",
    "ax.plot(obj1.hgt, obj1.Ti[lat_i,lon_i])\n",
    "\n",
    "ax = axes[1]\n",
    "ds['air_pressure'].isel(time = 0).sel(latitude= obj1.latlist[lat_i,0], longitude = obj1.lonlist[0,lon_i], method = 'nearest').plot(ax = ax)\n",
    "ax.plot(obj1.hgt, obj1.Pi[lat_i,lon_i])\n",
    "\n",
    "ax = axes[2]\n",
    "ds['vapor_pressure'].isel(time = 0).sel(latitude= obj1.latlist[lat_i,0], longitude = obj1.lonlist[0,lon_i], method = 'nearest').plot(ax = ax)\n",
    "ax.plot(obj1.hgt, obj1.Vi[lat_i,lon_i])\n",
    "\n",
    "plt.yscale('log')\n",
    "\n",
    "plt.tight_layout()"
   ]
  },
  {
   "cell_type": "code",
   "execution_count": null,
   "metadata": {},
   "outputs": [],
   "source": []
  }
 ],
 "metadata": {
  "kernelspec": {
   "display_name": "phaseo",
   "language": "python",
   "name": "python3"
  },
  "language_info": {
   "codemirror_mode": {
    "name": "ipython",
    "version": 3
   },
   "file_extension": ".py",
   "mimetype": "text/x-python",
   "name": "python",
   "nbconvert_exporter": "python",
   "pygments_lexer": "ipython3",
   "version": "3.11.3"
  },
  "orig_nbformat": 4
 },
 "nbformat": 4,
 "nbformat_minor": 2
}
