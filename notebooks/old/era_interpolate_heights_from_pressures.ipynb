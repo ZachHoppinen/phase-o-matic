{
 "cells": [
  {
   "cell_type": "code",
   "execution_count": null,
   "metadata": {},
   "outputs": [],
   "source": [
    "import cdsapi\n",
    "import numpy as np\n",
    "import pandas as pd\n",
    "import xarray as xr\n",
    "from shapely import geometry\n",
    "from pathlib import Path\n",
    "from typing import Union\n",
    "from datetime import datetime\n",
    "import matplotlib.pyplot as plt\n",
    "\n",
    "import sys\n",
    "sys.path.append('..')\n",
    "from phase_o_matic.preprocess import get_vapor_partial_pressure, convert_pressure_to_pascals, interpolate_to_geopotential\n",
    "\n",
    "from era import initconst\n",
    "constants = initconst()"
   ]
  },
  {
   "cell_type": "code",
   "execution_count": null,
   "metadata": {},
   "outputs": [],
   "source": [
    "from scipy import interpolate\n",
    "def interpolate_to_geopotential(dataset: xr.Dataset, min_alt = -200, n_heights = 300) -> xr.Dataset:\n",
    "    \"\"\"\n",
    "    Interpolate vapor pressure, air pressure, and temperatures from pressure level coordinates\n",
    "    to geopotential height coordinates. Cubic spline is used for each lat and lon.\n",
    "\n",
    "    Args:\n",
    "    dataset: xarray dataset with vpr, t data variables, and with level as coordinate\n",
    "    min_alt: [-200] minimum height in meters to interpolate form\n",
    "    n_heights: [300] number of evenly space heights to use in interpolating\n",
    "\n",
    "    Returns:\n",
    "    interpolated_ds: xarray dataset with coordinate \"heights\" of n_heights and data variables\n",
    "    \"temperature\", \"pressure\", and \"vapor_pressures\" interpolated to each geopotential height. \n",
    "    \"\"\"\n",
    "\n",
    "    assert 'vpr' in dataset.data_vars, \"No vapor pressure data. Please calculate first.\"\n",
    "    assert 'level' in dataset.coords, \"Need pressure level as a coordinate.\"\n",
    "    # calculate height range from -200 meters to highest potential height\n",
    "    maxAlt = dataset['z'].max().round()\n",
    "    heights = np.linspace(min_alt, maxAlt, n_heights)\n",
    "\n",
    "    # create empty array to hold interpolated data\n",
    "    new_size = (1, dataset['longitude'].size, dataset['latitude'].size, n_heights)\n",
    "\n",
    "    interpolated_ds = xr.Dataset(\n",
    "            {\n",
    "                'air_pressure': (['time','longitude', 'latitude','height'], np.zeros(new_size), dataset['level'].attrs),\n",
    "                'temperature': (['time', 'longitude', 'latitude','height'], np.zeros(new_size), dataset['t'].attrs),\n",
    "                'vapor_pressure': (['time', 'longitude', 'latitude','height'], np.zeros(new_size), dataset['vpr'].attrs),\n",
    "            },  \n",
    "            coords = {\n",
    "                \"longitude\" : ([\"longitude\"], dataset['longitude'].data, dataset['longitude'].attrs),\n",
    "                \"latitude\" : ([\"latitude\"], dataset['latitude'].data, dataset['latitude'].attrs),\n",
    "                \"height\" : ([\"height\"], heights, {'units' :'meters', 'long_name' :'altitude'}),\n",
    "                \"time\" : ([\"time\"], dataset['time'].data, {'long_name' :'time'}),\n",
    "            },\n",
    "            attrs=dataset.attrs\n",
    "        )\n",
    "\n",
    "    # scipy 1d interpolate won't accept 2d array as y values so have to iterate\n",
    "    for lon in dataset.longitude:\n",
    "        for lat in dataset.latitude:\n",
    "\n",
    "            # get geopotential heights at this lat and long\n",
    "            hx = dataset['z'].isel(time = 0).sel(latitude = lat, longitude = lon)\n",
    "\n",
    "            # interpolate pressure levels to pressure at each height\n",
    "            hy = dataset['level']\n",
    "            # make cubic interpolator\n",
    "            tck = interpolate.interp1d(hx,hy,axis = -1,kind='cubic',fill_value=\"extrapolate\")\n",
    "            # interpolate what pressure would occur at each height\n",
    "            interpolated_pressure = tck(heights)\n",
    "            # add to interpolated dataset at correct lat and long\n",
    "            interpolated_ds['air_pressure'].loc[{'latitude': lat, 'longitude': lon}] =  xr.DataArray(interpolated_pressure, coords = [heights], dims = 'height')\n",
    "\n",
    "            # interpolate temperatures to temperature at each height level\n",
    "            hy = dataset['t'].isel(time = 0).sel(latitude = lat, longitude = lon).data\n",
    "            tck = interpolate.interp1d(hx,hy,axis = -1,kind='cubic',fill_value=\"extrapolate\")\n",
    "            interpolated_temperatures = tck(heights)\n",
    "            interpolated_ds['temperature'].loc[{'latitude': lat, 'longitude': lon}] =  xr.DataArray(interpolated_temperatures, coords = [heights], dims = 'height')\n",
    "\n",
    "            # interpolate vapor pressures to vapor pressures at each height level\n",
    "            hy = dataset['vpr'].isel(time = 0).sel(latitude = lat, longitude = lon).data\n",
    "            tck = interpolate.interp1d(hx,hy,axis = -1,kind='cubic',fill_value=\"extrapolate\")\n",
    "            interpolated_vapor= tck(heights)\n",
    "            interpolated_ds['vapor_pressure'].loc[{'latitude': lat, 'longitude': lon}] =  xr.DataArray(interpolated_vapor, coords = [heights], dims = 'height')\n",
    "        \n",
    "    return interpolated_ds"
   ]
  },
  {
   "cell_type": "code",
   "execution_count": null,
   "metadata": {},
   "outputs": [],
   "source": [
    "era = xr.open_dataset('../data/ERA5_2020-01-03T20:00_-116.0_45.0_-115.0_46.0.nc')\n",
    "ds = convert_pressure_to_pascals(era)\n",
    "era = get_vapor_partial_pressure(era)\n",
    "new = interpolate_to_geopotential(era)"
   ]
  },
  {
   "cell_type": "code",
   "execution_count": null,
   "metadata": {},
   "outputs": [],
   "source": [
    "new.isel(time = 0, longitude = 0, latitude = 3)['temperature'].plot()"
   ]
  }
 ],
 "metadata": {
  "kernelspec": {
   "display_name": "validation",
   "language": "python",
   "name": "python3"
  },
  "language_info": {
   "codemirror_mode": {
    "name": "ipython",
    "version": 3
   },
   "file_extension": ".py",
   "mimetype": "text/x-python",
   "name": "python",
   "nbconvert_exporter": "python",
   "pygments_lexer": "ipython3",
   "version": "3.11.3"
  },
  "orig_nbformat": 4
 },
 "nbformat": 4,
 "nbformat_minor": 2
}
