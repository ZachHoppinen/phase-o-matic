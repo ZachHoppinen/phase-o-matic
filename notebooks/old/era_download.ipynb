{
 "cells": [
  {
   "cell_type": "code",
   "execution_count": null,
   "metadata": {},
   "outputs": [],
   "source": [
    "import cdsapi\n",
    "import pandas as pd\n",
    "import xarray as xr\n",
    "from shapely import geometry\n",
    "from pathlib import Path\n",
    "from typing import Union\n",
    "from datetime import datetime\n",
    "\n",
    "import sys\n",
    "sys.path.append('..')\n",
    "from phase_o_matic.download import download_era"
   ]
  },
  {
   "cell_type": "code",
   "execution_count": null,
   "metadata": {},
   "outputs": [],
   "source": [
    "area = geometry.box(-116, 45, -115, 46)\n",
    "ts = pd.to_datetime('2020-01-03T20:01:0000')\n",
    "out_dir = Path('../data/').expanduser()\n",
    "\n",
    "out_fp = download_era(date = ts, out_dir = out_dir, subset = area)\n",
    "\n",
    "ds = xr.open_dataset(out_fp)"
   ]
  }
 ],
 "metadata": {
  "kernelspec": {
   "display_name": "validation",
   "language": "python",
   "name": "python3"
  },
  "language_info": {
   "codemirror_mode": {
    "name": "ipython",
    "version": 3
   },
   "file_extension": ".py",
   "mimetype": "text/x-python",
   "name": "python",
   "nbconvert_exporter": "python",
   "pygments_lexer": "ipython3",
   "version": "3.11.3"
  },
  "orig_nbformat": 4
 },
 "nbformat": 4,
 "nbformat_minor": 2
}
