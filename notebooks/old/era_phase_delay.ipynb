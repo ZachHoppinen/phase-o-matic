{
 "cells": [
  {
   "cell_type": "code",
   "execution_count": null,
   "metadata": {},
   "outputs": [],
   "source": [
    "import numpy as np\n",
    "import pandas as pd\n",
    "import xarray as xr\n",
    "import rioxarray as rxa\n",
    "from shapely import geometry\n",
    "import matplotlib.pyplot as plt\n",
    "\n",
    "import sys\n",
    "sys.path.append('..')\n",
    "\n",
    "from phase_o_matic.download import download_era\n",
    "from phase_o_matic.preprocess import get_vapor_partial_pressure, convert_pressure_to_pascals, interpolate_to_heights\n",
    "from phase_o_matic.phase_delay import calculate_refractive_indexes, integrate_refractivity\n",
    "\n",
    "from era import initconst"
   ]
  },
  {
   "cell_type": "code",
   "execution_count": null,
   "metadata": {},
   "outputs": [],
   "source": [
    "# import numpy as np\n",
    "# levels = ['1','2','3','5','7','10','20','30','50', '70','100','125',\\\n",
    "#     '150','175','200','225', '250','300','350','400','450','500','550','600','650',\\\n",
    "#     '700','750','775','800','825', '850','875','900','925','950','975','1000']\n",
    "# levels = np.array(levels).astype('int32')\n",
    "# lats = np.linspace(43, 45, 9).astype('float32')\n",
    "# lons = np.linspace(-116, -115, 10).astype('float32')\n",
    "# ds = xr.Dataset(\n",
    "#     {\n",
    "#         'z': (['longitude', 'latitude','level','time'], np.random.random((10, 9, 37, 1)).astype('float32'), {'units':'m**2 s**-2', 'long_name':'Geopotential', 'standard_name' :'geopotential'}),\n",
    "#         't': (['longitude', 'latitude','level','time'], np.random.random((10, 9, 37, 1)).astype('float32'), {'units' :'K', 'long_name' :'Temperature', 'standard_name' :'air_temperature'}),\n",
    "#         'q': (['longitude', 'latitude','level','time'], np.random.random((10, 9, 37, 1)).astype('float32'), {'units' :'kg kg**-1', 'long_name' :'Specific humidity', 'standard_name' :'specific_humidity'}),\n",
    "#         'vpr': (['longitude', 'latitude','level','time'], np.random.random((10, 9, 37, 1)).astype('float32')),\n",
    "#     },  \n",
    "#     coords = {\n",
    "#         \"longitude\" : ([\"longitude\"], lons, {'units' :'degrees_east', 'long_name' :'longitude'}),\n",
    "#         \"latitude\" : ([\"latitude\"], lats, {'units' :'degrees_north', 'long_name' :'latitude'}),\n",
    "#         \"level\" : ([\"level\"], levels, {'units' :'millibars', 'long_name' :'pressure_level'}),\n",
    "#         \"time\" : ([\"time\"], [pd.to_datetime('2020-01-04T09:00')], {'long_name' :'time'}),\n",
    "#     },\n",
    "#     attrs={'Conventions' :'CF-1.6', 'history' :'2023-05-04 17:03:14 GMT by grib_'}\n",
    "# )"
   ]
  },
  {
   "cell_type": "code",
   "execution_count": null,
   "metadata": {},
   "outputs": [],
   "source": [
    "# for i in np.arange(200, 300):\n",
    "test = era.isel(time = 0, latitude = 0, longitude = 1, level = 32)\n",
    "test['t'] = 30+273\n",
    "test['r'] = 75\n",
    "print(test['t'].data.ravel()[0] - 273)\n",
    "print(test['level'].data.ravel()[0]/100)\n",
    "print(test['r'].data.ravel()[0]/100)\n",
    "svp = cc_era(test['t'])\n",
    "print(svp.data.ravel()[0])\n",
    "get_vapor_partial_pressure(test)['vpr'].data.ravel()[0]\n",
    "# plt.scatter(i-273, svp/10000, color = 'blue', marker = 'x')\n",
    "# plt.yscale('log')\n",
    "# plt.show()"
   ]
  },
  {
   "cell_type": "code",
   "execution_count": null,
   "metadata": {},
   "outputs": [],
   "source": [
    "from itertools import product\n",
    "fig, ax = plt.subplots()\n",
    "for i, j in product(range(3), range(5)):\n",
    "    for k, l in product(range(3), range(5)):\n",
    "        if i == k and j == l:\n",
    "            continue\n",
    "        (ds['N'].isel(time = 0, latitude = k, longitude = l) - ds['N'].isel(time = 0, latitude = i, longitude = j)).plot(y = 'height', color = 'blue', alpha = 0.4)"
   ]
  },
  {
   "cell_type": "code",
   "execution_count": null,
   "metadata": {},
   "outputs": [],
   "source": [
    "fig, axes = plt.subplots(2, 3, figsize = (12, 8))\n",
    "\n",
    "ds['vapor_pressure'].isel(time = 0, latitude = 0, longitude = 0).plot(ax = axes[0, 0], y = 'height')\n",
    "ds['vapor_pressure'].isel(time = 1, latitude = 0, longitude = 0).plot(ax = axes[0, 0], y = 'height')\n",
    "ds['air_pressure'].isel(time = 0, latitude = 0, longitude = 0).plot(ax = axes[0, 1], y = 'height')\n",
    "ds['air_pressure'].isel(time = 1, latitude = 0, longitude = 0).plot(ax = axes[0, 1], y = 'height')\n",
    "ds['temperature'].isel(time = 0, latitude = 0, longitude = 0).plot(ax = axes[0, 2], y = 'height')\n",
    "ds['temperature'].isel(time = 1, latitude = 0, longitude = 0).plot(ax = axes[0, 2], y = 'height')\n",
    "ds['N_wet'].isel(time = 0, latitude = 0, longitude = 0).plot(ax = axes[1, 0], y = 'height')\n",
    "ds['N_wet'].isel(time = 1, latitude = 0, longitude = 0).plot(ax = axes[1, 0], y = 'height')\n",
    "ds['N_dry'].isel(time = 0, latitude = 0, longitude = 0).plot(ax = axes[1, 1], y = 'height')\n",
    "ds['N_dry'].isel(time = 1, latitude = 0, longitude = 0).plot(ax = axes[1, 1], y = 'height')\n",
    "ds['N'].isel(time = 0, latitude = 0, longitude = 0).plot(ax = axes[1, 2], y = 'height')\n",
    "ds['N'].isel(time = 1, latitude = 0, longitude = 0).plot(ax = axes[1, 2], y = 'height')\n",
    "\n",
    "def numfmt(x, pos): # your custom formatter function: divide by 100.0\n",
    "    s = '{}'.format(x / 1000.0)\n",
    "    return s\n",
    "\n",
    "import matplotlib.ticker as tkr     # has classes for tick-locating and -formatting\n",
    "yfmt = tkr.FuncFormatter(numfmt)    # create your custom formatter function\n",
    "\n",
    "# your existing code can be inserted here\n",
    "for ax in axes.ravel():\n",
    "    ax.yaxis.set_major_formatter(yfmt)\n",
    "    ax.set_ylabel('Altitude (km)')\n",
    "    ax.set_title('')\n",
    "\n",
    "axes[0, 1].xaxis.set_major_formatter(yfmt)\n",
    "axes[0, 1].set_xlabel('Air Pressure [KPa]')\n",
    "# axes[1,2].set_xscale('log')\n",
    "plt.tight_layout()"
   ]
  },
  {
   "cell_type": "code",
   "execution_count": null,
   "metadata": {},
   "outputs": [],
   "source": [
    "fig, axes = plt.subplots(2, 3, figsize = (12, 8))\n",
    "\n",
    "ds['vapor_pressure'].isel(time = 0, latitude = 0, longitude = 0).plot(ax = axes[0, 0], y = 'height')\n",
    "ds['vapor_pressure'].isel(time = 1, latitude = 0, longitude = 0).plot(ax = axes[0, 0], y = 'height')\n",
    "ds['air_pressure'].isel(time = 0, latitude = 0, longitude = 0).plot(ax = axes[0, 1], y = 'height')\n",
    "ds['air_pressure'].isel(time = 1, latitude = 0, longitude = 0).plot(ax = axes[0, 1], y = 'height')\n",
    "ds['temperature'].isel(time = 0, latitude = 0, longitude = 0).plot(ax = axes[0, 2], y = 'height')\n",
    "ds['temperature'].isel(time = 1, latitude = 0, longitude = 0).plot(ax = axes[0, 2], y = 'height')\n",
    "ds['N_wet'].isel(time = 0, latitude = 0, longitude = 0).plot(ax = axes[1, 0], y = 'height')\n",
    "ds['N_wet'].isel(time = 1, latitude = 0, longitude = 0).plot(ax = axes[1, 0], y = 'height')\n",
    "ds['N_dry'].isel(time = 0, latitude = 0, longitude = 0).plot(ax = axes[1, 1], y = 'height')\n",
    "ds['N_dry'].isel(time = 1, latitude = 0, longitude = 0).plot(ax = axes[1, 1], y = 'height')\n",
    "ds['N'].isel(time = 0, latitude = 0, longitude = 0).plot(ax = axes[1, 2], y = 'height')\n",
    "ds['N'].isel(time = 1, latitude = 0, longitude = 0).plot(ax = axes[1, 2], y = 'height')\n",
    "\n",
    "def numfmt(x, pos): # your custom formatter function: divide by 100.0\n",
    "    s = '{}'.format(x / 1000.0)\n",
    "    return s\n",
    "\n",
    "import matplotlib.ticker as tkr     # has classes for tick-locating and -formatting\n",
    "yfmt = tkr.FuncFormatter(numfmt)    # create your custom formatter function\n",
    "\n",
    "# your existing code can be inserted here\n",
    "for ax in axes.ravel():\n",
    "    ax.yaxis.set_major_formatter(yfmt)\n",
    "    ax.set_ylabel('Altitude (km)')\n",
    "    ax.set_title('')\n",
    "\n",
    "axes[0, 1].xaxis.set_major_formatter(yfmt)\n",
    "axes[0, 1].set_xlabel('Air Pressure [KPa]')\n",
    "# axes[1,2].set_xscale('log')\n",
    "plt.tight_layout()"
   ]
  },
  {
   "cell_type": "code",
   "execution_count": null,
   "metadata": {},
   "outputs": [],
   "source": [
    "fig, axes = plt.subplots( figsize = (12, 8))\n",
    "\n",
    "ds['humidity'].isel(time = 0, latitude = 0, longitude = 0).plot(ax = axes, y = 'height')\n",
    "ds['humidity'].isel(time = 1, latitude = 0, longitude = 0).plot(ax = axes, y = 'height')"
   ]
  },
  {
   "cell_type": "code",
   "execution_count": null,
   "metadata": {},
   "outputs": [],
   "source": [
    "fig, axes = plt.subplots( figsize = (12, 8))\n",
    "\n",
    "(4*np.pi/0.23*(ds['N'].isel(time = 0, latitude = 0, longitude = 0) - ds['N'].isel(time = 1, latitude = 0, longitude = 0))).plot(ax = axes, y = 'height')\n"
   ]
  },
  {
   "cell_type": "code",
   "execution_count": null,
   "metadata": {},
   "outputs": [],
   "source": [
    "import pyaps3 as pa\n"
   ]
  },
  {
   "cell_type": "code",
   "execution_count": null,
   "metadata": {},
   "outputs": [],
   "source": [
    "import os\n",
    "filedir = '../data/pyaps'\n",
    "w, s, e, n = geom.rio.bounds()\n",
    "pa.ECMWFdload([time1.strftime('%Y%m%d'),time2.strftime('%Y%m%d')], hr='08', filedir=filedir, model='ERA5', snwe=(s,n,w,e))"
   ]
  },
  {
   "cell_type": "code",
   "execution_count": null,
   "metadata": {},
   "outputs": [],
   "source": [
    "data_dir = '/Users/zachkeskinen/Documents/phase-o-matic/PyAPS/tests/data'\n",
    "# read geometry files\n",
    "print('read ISCE geometry files: hgt/los/lat/lon.rdr')\n",
    "dem = pa.utils.read_data(os.path.join(data_dir, 'hgt.rdr'))\n",
    "inc = pa.utils.read_data(os.path.join(data_dir, 'los.rdr'), dname='inc')\n",
    "lat = pa.utils.read_data(os.path.join(data_dir, 'lat.rdr'))\n",
    "lon = pa.utils.read_data(os.path.join(data_dir, 'lon.rdr'))\n",
    "\n",
    "# calculate\n",
    "print('calculate tropospheric delay from GRB files...')\n",
    "print('------------------------------------------------')\n",
    "grb_file1 = os.path.join(data_dir, 'ERA5/ERA5_N30_N40_E120_E140_20101017_14.grb')\n",
    "grb_file2 = os.path.join(data_dir, 'ERA5/ERA5_N30_N40_E120_E140_20110117_14.grb')\n",
    "obj1 = pa.PyAPS(grb_file1, dem=dem, inc=inc, lat=lat, lon=lon, grib='ERA5', verb=True)\n",
    "obj2 = pa.PyAPS(grb_file2, dem=dem, inc=inc, lat=lat, lon=lon, grib='ERA5', verb=True)\n",
    "phs = obj2.getdelay() - obj1.getdelay()\n",
    "\n",
    "# plot\n",
    "date12 = '{}_{}'.format(grb_file1.split('_')[-2], grb_file2.split('_')[-2])\n",
    "titles = [f'Tropospheric delay\\n{date12}', 'Height']\n",
    "fig, axs = plt.subplots(nrows=1, ncols=2, figsize=[10, 6])\n",
    "for ax, data, title in zip(axs, [phs, dem], titles):\n",
    "    im = ax.imshow(data, interpolation='nearest')\n",
    "    # axis format\n",
    "    ax.invert_yaxis()\n",
    "    ax.set_title(title)\n",
    "    cbar = fig.colorbar(im, ax=ax)\n",
    "    cbar.set_label('meter')\n",
    "fig.tight_layout()\n",
    "\n",
    "print('------------------------------------------------')\n",
    "print('Passed tropospheric delay calculation from ERA5.')\n",
    "print('------------------------------------------------')\n",
    "plt.show()"
   ]
  }
 ],
 "metadata": {
  "kernelspec": {
   "display_name": "validation",
   "language": "python",
   "name": "python3"
  },
  "language_info": {
   "codemirror_mode": {
    "name": "ipython",
    "version": 3
   },
   "file_extension": ".py",
   "mimetype": "text/x-python",
   "name": "python",
   "nbconvert_exporter": "python",
   "pygments_lexer": "ipython3",
   "version": "3.11.3"
  },
  "orig_nbformat": 4
 },
 "nbformat": 4,
 "nbformat_minor": 2
}
