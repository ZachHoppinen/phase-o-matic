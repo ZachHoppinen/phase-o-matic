{
 "cells": [
  {
   "cell_type": "code",
   "execution_count": null,
   "metadata": {},
   "outputs": [],
   "source": [
    "import cdsapi\n",
    "import pandas as pd\n",
    "import xarray as xr\n",
    "from shapely import geometry\n",
    "from pathlib import Path\n",
    "from typing import Union\n",
    "from datetime import datetime\n",
    "\n",
    "import sys\n",
    "sys.path.append('..')\n",
    "from phase_o_matic.preprocess import get_vapour_partial_pressure, convert_pressure_to_pascals"
   ]
  },
  {
   "cell_type": "code",
   "execution_count": null,
   "metadata": {},
   "outputs": [],
   "source": [
    "era = xr.open_dataset('../data/ERA5_2020-01-03T20:00_-116.0_45.0_-115.0_46.0.nc')"
   ]
  },
  {
   "cell_type": "code",
   "execution_count": null,
   "metadata": {},
   "outputs": [],
   "source": [
    "import numpy as np\n",
    "levels = ['1','2','3','5','7','10','20','30','50', '70','100','125',\\\n",
    "    '150','175','200','225', '250','300','350','400','450','500','550','600','650',\\\n",
    "    '700','750','775','800','825', '850','875','900','925','950','975','1000']\n",
    "levels = np.array(levels).astype('int32')\n",
    "lats = np.linspace(43, 45, 10).astype('float32')\n",
    "lons = np.linspace(-116, -115, 10).astype('float32')\n",
    "ds = xr.Dataset(\n",
    "    {\n",
    "        'z': (['longitude', 'latitude','level','time'], np.random.random((10, 10, 37, 1)).astype('float32'), {'units':'m**2 s**-2', 'long_name':'Geopotential', 'standard_name' :'geopotential'}),\n",
    "        't': (['longitude', 'latitude','level','time'], np.random.random((10, 10, 37, 1)).astype('float32'), {'units' :'K', 'long_name' :'Temperature', 'standard_name' :'air_temperature'}),\n",
    "        'q': (['longitude', 'latitude','level','time'], np.random.random((10, 10, 37, 1)).astype('float32'), {'units' :'kg kg**-1', 'long_name' :'Specific humidity', 'standard_name' :'specific_humidity'}),\n",
    "    },  \n",
    "    coords = {\n",
    "        \"longitude\" : ([\"longitude\"], lons, {'units' :'degrees_east', 'long_name' :'longitude'}),\n",
    "        \"latitude\" : ([\"latitude\"], lats, {'units' :'degrees_north', 'long_name' :'latitude'}),\n",
    "        \"level\" : ([\"level\"], levels, {'units' :'millibars', 'long_name' :'pressure_level'}),\n",
    "        \"time\" : ([\"time\"], [pd.to_datetime('2020-01-04T09:00')], {'long_name' :'time'}),\n",
    "    },\n",
    "    attrs={'Conventions' :'CF-1.6', 'history' :'2023-05-04 17:03:14 GMT by grib_'}\n",
    ")"
   ]
  },
  {
   "cell_type": "code",
   "execution_count": null,
   "metadata": {},
   "outputs": [],
   "source": [
    "ds = convert_pressure_to_pascals(ds)"
   ]
  },
  {
   "cell_type": "code",
   "execution_count": null,
   "metadata": {},
   "outputs": [],
   "source": [
    "ds = get_vapour_partial_pressure(ds)"
   ]
  },
  {
   "cell_type": "code",
   "execution_count": null,
   "metadata": {},
   "outputs": [],
   "source": [
    "ds"
   ]
  }
 ],
 "metadata": {
  "kernelspec": {
   "display_name": "validation",
   "language": "python",
   "name": "python3"
  },
  "language_info": {
   "codemirror_mode": {
    "name": "ipython",
    "version": 3
   },
   "file_extension": ".py",
   "mimetype": "text/x-python",
   "name": "python",
   "nbconvert_exporter": "python",
   "pygments_lexer": "ipython3",
   "version": "3.11.3"
  },
  "orig_nbformat": 4
 },
 "nbformat": 4,
 "nbformat_minor": 2
}
