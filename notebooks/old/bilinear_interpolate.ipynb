{
 "cells": [
  {
   "cell_type": "code",
   "execution_count": null,
   "metadata": {},
   "outputs": [],
   "source": [
    "import numpy as np\n",
    "import pandas as pd\n",
    "import xarray as xr\n",
    "import rioxarray as rxa\n",
    "from shapely import geometry\n",
    "\n",
    "import sys\n",
    "sys.path.append('..')\n",
    "\n",
    "from phase_o_matic.download import download_era\n",
    "from phase_o_matic.preprocess import get_vapor_partial_pressure, convert_pressure_to_pascals, interpolate_to_heights\n",
    "from phase_o_matic.phase_delay import calculate_refractive_indexes, integrate_refractivity"
   ]
  },
  {
   "cell_type": "code",
   "execution_count": null,
   "metadata": {},
   "outputs": [],
   "source": [
    "# interpolate delays to uavsar\n",
    "geom = xr.open_dataset('../data/uavsar/uavsar_geom_v2.nc').sel(heading = '232')\n",
    "if 'x' in geom.coords: geom = geom.rename({'x':'longitude'})\n",
    "if 'y' in geom.coords: geom = geom.rename({'y':'latitude'})\n",
    "geom['dem'] = geom['dem'].where(geom['dem'] > 0)\n",
    "time1 = pd.to_datetime('2021-01-15 19:50:49 UTC').tz_convert('America/Boise')\n",
    "time2 = pd.to_datetime('2021-01-20 21:20:42 UTC').tz_convert('America/Boise')\n",
    "time_DAs = []\n",
    "for time in [time1, time2]:\n",
    "    # fp = download_era(date = time, out_dir = '../data/', subset = geometry.box(*geom.rio.bounds()), LOS = False)\n",
    "    fp = f\"/Users/zachkeskinen/Documents/phase-o-matic/data/ERA5_{time.strftime('%Y-%m-%dT%H')}:00_-116.31_43.59_-114.90_44.46.nc\"\n",
    "    era = xr.open_dataset(fp) #'../data/ERA5_2021-01-15T12:00_-116.31_43.59_-114.90_44.46.nc'\n",
    "    era = convert_pressure_to_pascals(era)\n",
    "    era = get_vapor_partial_pressure(era)\n",
    "    max_alt = (geom['dem'] + np.abs(geom['lkv_z'])).max()\n",
    "    ds = interpolate_to_heights(era, max_alt = max_alt)\n",
    "    ds = calculate_refractive_indexes(ds)\n",
    "    # new stuff below\n",
    "    # ds = ds.interp_like(geom, method = 'linear', kwargs={\"fill_value\": \"extrapolate\"})\n",
    "    # ds = ds.interp(height = np.round(np.arange(geom['dem'].min()-2, geom['dem'].max()+2)), method = 'linear')\n",
    "    time_DAs.append(ds)\n",
    "ds = xr.concat(time_DAs, dim = 'time')"
   ]
  },
  {
   "cell_type": "code",
   "execution_count": null,
   "metadata": {},
   "outputs": [],
   "source": [
    "cum = integrate_refractivity(ds)\n",
    "plt.plot(cum['cum_N'][0, 2, 2]*1.0e-6 - cum['cum_N'][0, 2, 3]*1.0e-6)"
   ]
  },
  {
   "cell_type": "code",
   "execution_count": null,
   "metadata": {},
   "outputs": [],
   "source": [
    "import matplotlib.pyplot as plt\n",
    "fig, ax = plt.subplots()\n",
    "((ds['N'].isel(time = 1).isel(longitude = 3, latitude = 2) - ds['N'].isel(time = 0).isel(longitude = 3, latitude = 2))).plot(ax = ax)\n"
   ]
  },
  {
   "cell_type": "code",
   "execution_count": null,
   "metadata": {},
   "outputs": [],
   "source": [
    "# https://stackoverflow.com/questions/53350391/surface-normal-calculation-from-depth-map-in-python\n",
    "from rasterio.enums import Resampling\n",
    "if geom.rio.crs != geom.rio.estimate_utm_crs():\n",
    "    geom = geom.rio.reproject(geom.rio.estimate_utm_crs(), nodata = np.nan, resampling = Resampling.bilinear)\n",
    "d_im = geom['dem'].data\n",
    "x_scaling = (geom.x[1] - geom.x[0]).data.ravel()[0]\n",
    "y_scaling = (geom.y[1] - geom.y[0]).data.ravel()[0]\n",
    "zy, zx = np.gradient(d_im)\n",
    "normal = np.dstack((-zx/x_scaling, -zy/y_scaling, np.ones_like(d_im)))\n",
    "n = np.linalg.norm(normal, axis=2)\n",
    "normal[:, :, 0] /= n\n",
    "normal[:, :, 1] /= n\n",
    "normal[:, :, 2] /= n\n",
    "\n",
    "geom['mag'] = (geom['lkv_x']**2 + geom['lkv_y']**2 + geom['lkv_z']**2)**0.5\n",
    "rls = np.zeros_like(geom['dem'])\n",
    "rls = np.repeat(np.expand_dims(rls, axis = 2), 3, axis = 2)\n",
    "rls = np.dstack((geom['lkv_x'], geom['lkv_y'], geom['lkv_z']))\n",
    "rls[:,:, 0] /= geom['mag']\n",
    "rls[:,:, 1] /= geom['mag']\n",
    "rls[:,:, 2] /= geom['mag']\n",
    "\n",
    "inc = np.zeros(geom['dem'].shape)\n",
    "for i in range(rls.shape[0]):\n",
    "    for j in range(rls.shape[1]):\n",
    "        inc[i, j] = np.arccos(np.dot(-normal[i, j], rls[i, j]))\n",
    "\n",
    "geom['inc'] = xr.DataArray(inc, coords = [geom.y, geom.x], dims = ['y','x'])\n",
    "\n",
    "if geom.rio.crs != 'EPSG:4326':\n",
    "    geom = geom.rio.reproject('EPSG:4326', nodata = np.nan, resampling = Resampling.bilinear)\n",
    "geom['dem_int'] = xr.apply_ufunc(np.round, geom['dem'])"
   ]
  }
 ],
 "metadata": {
  "kernelspec": {
   "display_name": "phaseo",
   "language": "python",
   "name": "python3"
  },
  "language_info": {
   "codemirror_mode": {
    "name": "ipython",
    "version": 3
   },
   "file_extension": ".py",
   "mimetype": "text/x-python",
   "name": "python",
   "nbconvert_exporter": "python",
   "pygments_lexer": "ipython3",
   "version": "3.11.3"
  },
  "orig_nbformat": 4
 },
 "nbformat": 4,
 "nbformat_minor": 2
}
