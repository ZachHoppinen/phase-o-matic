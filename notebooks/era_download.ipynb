{
 "cells": [
  {
   "cell_type": "code",
   "execution_count": 2,
   "metadata": {},
   "outputs": [],
   "source": [
    "import cdsapi\n",
    "import pandas as pd\n",
    "import xarray as xr\n",
    "from shapely import geometry\n",
    "from pathlib import Path\n",
    "from typing import Union"
   ]
  },
  {
   "cell_type": "code",
   "execution_count": 3,
   "metadata": {},
   "outputs": [],
   "source": [
    "def download_era(date: pd.Timestamp, out_dir: Union[str, Path], subset: Union[geometry.Polygon, None]) -> str:\n",
    "    \"\"\"\n",
    "    Download era5 weather model for specific hourly timestep as netcdf. Can be subset to a specific geographic subset.\n",
    "\n",
    "    Args:\n",
    "    date: timestamp of the desired date and time. Will be rounded to nearest hour\n",
    "    out_dir: directory to save file into\n",
    "    subset: subset geometry to clip data to\n",
    "\n",
    "    returns:\n",
    "    out_fp: filepath of saved netcdf\n",
    "    \"\"\"\n",
    "    # check to see if era5 token has been saved to .cdsapric file and create client for download\n",
    "    assert Path('~/.cdsapirc').expanduser().exists(), \"Must sign up for ERA5 account and save key to .cdsapric file\"\n",
    "    c = cdsapi.Client()\n",
    "\n",
    "    # could get 'relative_humidity' but sticking with one.\n",
    "    humidparam = 'specific_humidity'\n",
    "\n",
    "    # pressure levels to download (this is all 37 possible)\n",
    "    era_pressure_lvls = ['1','2','3','5','7','10','20','30','50', '70','100','125',\\\n",
    "    '150','175','200','225', '250','300','350','400','450','500','550','600','650',\\\n",
    "    '700','750','775','800','825', '850','875','900','925','950','975','1000']\n",
    "\n",
    "    indict = {'product_type'   :'reanalysis',\\\n",
    "                'format'         :'netcdf',\\\n",
    "                'variable'       :['geopotential','temperature', humidparam],\\\n",
    "                'pressure_level' : era_pressure_lvls, \\\n",
    "                'date'           : date.strftime('%Y-%M-%d'),\n",
    "                'time'           : date.strftime('%H:00')}\n",
    "\n",
    "    out_fp = out_dir.joinpath(f\"ERA5_{date.strftime('%Y-%M-%dT%H:00')}.nc\")\n",
    "\n",
    "    if subset:\n",
    "        w, s, e, n = subset.bounds\n",
    "        indict['area'] = f'/'.join([str(b) for b in [n, w, s, e]])\n",
    "        out_fp = out_fp.with_stem(f\"{out_fp.stem}_{'_'.join([str(b) for b in subset.bounds])}\")\n",
    "\n",
    "    c.retrieve('reanalysis-era5-pressure-levels', indict, target=out_fp)\n",
    "\n",
    "    return out_fp"
   ]
  },
  {
   "cell_type": "code",
   "execution_count": 16,
   "metadata": {},
   "outputs": [
    {
     "name": "stderr",
     "output_type": "stream",
     "text": [
      "2023-05-04 11:14:41,054 INFO Welcome to the CDS\n",
      "2023-05-04 11:14:41,055 INFO Sending request to https://cds.climate.copernicus.eu/api/v2/resources/reanalysis-era5-pressure-levels\n",
      "2023-05-04 11:14:41,253 INFO Request is completed\n",
      "2023-05-04 11:14:41,253 INFO Downloading https://download-0003-clone.copernicus-climate.eu/cache-compute-0003/cache/data9/adaptor.mars.internal-1683219794.4493906-28856-5-101ebd57-b515-4668-b02f-d86767afcac0.nc to /tmp/ERA5_2020-01-03T20:00_-116.0_45.0_-115.0_46.0.nc (7.4K)\n",
      "2023-05-04 11:14:41,964 INFO Download rate 10.4K/s\n"
     ]
    }
   ],
   "source": [
    "area = geometry.box(-116, 45, -115, 46)\n",
    "ts = pd.to_datetime('2020-01-03T20:01:0000')\n",
    "out_dir = Path('/tmp').expanduser()\n",
    "\n",
    "out_fp = download_era(date = ts, out_dir = out_dir, subset = area)\n",
    "\n",
    "ds = xr.open_dataset(out_fp)\n"
   ]
  },
  {
   "cell_type": "code",
   "execution_count": 27,
   "metadata": {},
   "outputs": [
    {
     "data": {
      "text/plain": [
       "(1, 5, 5)"
      ]
     },
     "execution_count": 27,
     "metadata": {},
     "output_type": "execute_result"
    }
   ],
   "source": [
    "ds.isel(level = 3)['q'].data.shape"
   ]
  }
 ],
 "metadata": {
  "kernelspec": {
   "display_name": "validation",
   "language": "python",
   "name": "python3"
  },
  "language_info": {
   "codemirror_mode": {
    "name": "ipython",
    "version": 3
   },
   "file_extension": ".py",
   "mimetype": "text/x-python",
   "name": "python",
   "nbconvert_exporter": "python",
   "pygments_lexer": "ipython3",
   "version": "3.11.3"
  },
  "orig_nbformat": 4
 },
 "nbformat": 4,
 "nbformat_minor": 2
}
