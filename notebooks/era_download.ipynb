{
 "cells": [
  {
   "cell_type": "code",
   "execution_count": 1,
   "metadata": {},
   "outputs": [],
   "source": [
    "import cdsapi\n",
    "import pandas as pd\n",
    "import xarray as xr\n",
    "from shapely import geometry\n",
    "from pathlib import Path\n",
    "from typing import Union\n",
    "from datetime import datetime\n",
    "\n",
    "import sys\n",
    "sys.path.append('..')\n",
    "from phase_o_matic.download import download_era"
   ]
  },
  {
   "cell_type": "code",
   "execution_count": 3,
   "metadata": {},
   "outputs": [
    {
     "name": "stderr",
     "output_type": "stream",
     "text": [
      "2023-05-04 12:17:01,882 INFO Welcome to the CDS\n",
      "2023-05-04 12:17:01,883 INFO Sending request to https://cds.climate.copernicus.eu/api/v2/resources/reanalysis-era5-pressure-levels\n",
      "2023-05-04 12:17:02,151 INFO Request is completed\n",
      "2023-05-04 12:17:02,153 INFO Downloading https://download-0003-clone.copernicus-climate.eu/cache-compute-0003/cache/data9/adaptor.mars.internal-1683219794.4493906-28856-5-101ebd57-b515-4668-b02f-d86767afcac0.nc to ../data/ERA5_2020-01-03T20:00_-116.0_45.0_-115.0_46.0.nc (7.4K)\n",
      "2023-05-04 12:17:03,151 INFO Download rate 7.4K/s\n"
     ]
    }
   ],
   "source": [
    "area = geometry.box(-116, 45, -115, 46)\n",
    "ts = pd.to_datetime('2020-01-03T20:01:0000')\n",
    "out_dir = Path('../data/').expanduser()\n",
    "\n",
    "out_fp = download_era(date = ts, out_dir = out_dir, subset = area)\n",
    "\n",
    "ds = xr.open_dataset(out_fp)"
   ]
  }
 ],
 "metadata": {
  "kernelspec": {
   "display_name": "validation",
   "language": "python",
   "name": "python3"
  },
  "language_info": {
   "codemirror_mode": {
    "name": "ipython",
    "version": 3
   },
   "file_extension": ".py",
   "mimetype": "text/x-python",
   "name": "python",
   "nbconvert_exporter": "python",
   "pygments_lexer": "ipython3",
   "version": "3.11.3"
  },
  "orig_nbformat": 4
 },
 "nbformat": 4,
 "nbformat_minor": 2
}
