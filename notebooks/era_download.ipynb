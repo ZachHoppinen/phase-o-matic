{
 "cells": [
  {
   "cell_type": "code",
   "execution_count": 7,
   "metadata": {},
   "outputs": [],
   "source": [
    "import cdsapi\n",
    "import pandas as pd\n",
    "import xarray as xr\n",
    "from shapely import geometry\n",
    "from pathlib import Path\n",
    "from typing import Union\n",
    "from datetime import datetime"
   ]
  },
  {
   "cell_type": "code",
   "execution_count": 9,
   "metadata": {},
   "outputs": [
    {
     "data": {
      "text/plain": [
       "False"
      ]
     },
     "execution_count": 9,
     "metadata": {},
     "output_type": "execute_result"
    }
   ],
   "source": [
    "ts < datetime.now()"
   ]
  },
  {
   "cell_type": "code",
   "execution_count": 13,
   "metadata": {},
   "outputs": [],
   "source": [
    "def download_era(date: pd.Timestamp, out_dir: Union[str, Path], subset: Union[geometry.Polygon, None]) -> str:\n",
    "    \"\"\"\n",
    "    Download era5 weather model for specific hourly timestep as netcdf. Can be subset to a specific geographic subset.\n",
    "\n",
    "    Args:\n",
    "    date: timestamp of the desired date and time. Will be rounded to nearest hour\n",
    "    out_dir: directory to save file into\n",
    "    subset: subset geometry to clip data to\n",
    "\n",
    "    returns:\n",
    "    out_fp: filepath of saved netcdf\n",
    "    \"\"\"\n",
    "    # check to see if era5 token has been saved to .cdsapric file and create client for download\n",
    "    assert Path('~/.cdsapirc').expanduser().exists(), \"Must sign up for ERA5 account and save key to .cdsapric file\"\n",
    "    c = cdsapi.Client()\n",
    "\n",
    "    out_dir = out_dir.expanduser()\n",
    "    assert out_dir.exists(), f\"Provided directory: {out_dir} does not exist.\"\n",
    "\n",
    "    # could get 'relative_humidity' but sticking with one.\n",
    "    humidparam = 'specific_humidity'\n",
    "\n",
    "    # pressure levels to download (this is all 37 possible)\n",
    "    era_pressure_lvls = ['1','2','3','5','7','10','20','30','50', '70','100','125',\\\n",
    "    '150','175','200','225', '250','300','350','400','450','500','550','600','650',\\\n",
    "    '700','750','775','800','825', '850','875','900','925','950','975','1000']\n",
    "\n",
    "    assert date < datetime.now(), \"provided date is in the future\"\n",
    "    assert date > pd.to_datetime('1940-01-01'), \"provided date is before january 1940\"\n",
    "\n",
    "    indict = {'product_type'   :'reanalysis',\\\n",
    "                'format'         :'netcdf',\\\n",
    "                'variable'       :['geopotential','temperature', humidparam],\\\n",
    "                'pressure_level' : era_pressure_lvls, \\\n",
    "                'date'           : date.strftime('%Y-%M-%d'),\n",
    "                'time'           : date.strftime('%H:00')}\n",
    "\n",
    "    out_fp = out_dir.joinpath(f\"ERA5_{date.strftime('%Y-%M-%dT%H:00')}.nc\")\n",
    "\n",
    "    if subset:\n",
    "        w, s, e, n = subset.bounds\n",
    "        assert w > -180 and w < 180, f\"West bound: {w} is outside of globe\"\n",
    "        assert e > -180 and e < 180, f\"East bound: {e} is outside of globe\"\n",
    "        assert n > -90 and n < 90, f\"North bound: {n} is outside of globe\"\n",
    "        assert s > -90 and w < 90, f\"South bound: {s} is outside of globe\"\n",
    "        indict['area'] = f'/'.join([str(b) for b in [n, w, s, e]])\n",
    "        out_fp = out_fp.with_stem(f\"{out_fp.stem}_{'_'.join([str(b) for b in subset.bounds])}\")\n",
    "\n",
    "    c.retrieve('reanalysis-era5-pressure-levels', indict, target=out_fp)\n",
    "\n",
    "    return out_fp"
   ]
  },
  {
   "cell_type": "code",
   "execution_count": 14,
   "metadata": {},
   "outputs": [
    {
     "ename": "AssertionError",
     "evalue": "North bound: 91.0 is outside of globe",
     "output_type": "error",
     "traceback": [
      "\u001b[0;31m---------------------------------------------------------------------------\u001b[0m",
      "\u001b[0;31mAssertionError\u001b[0m                            Traceback (most recent call last)",
      "Cell \u001b[0;32mIn[14], line 5\u001b[0m\n\u001b[1;32m      2\u001b[0m ts \u001b[39m=\u001b[39m pd\u001b[39m.\u001b[39mto_datetime(\u001b[39m'\u001b[39m\u001b[39m2020-01-03T20:01:0000\u001b[39m\u001b[39m'\u001b[39m)\n\u001b[1;32m      3\u001b[0m out_dir \u001b[39m=\u001b[39m Path(\u001b[39m'\u001b[39m\u001b[39m/tmp\u001b[39m\u001b[39m'\u001b[39m)\u001b[39m.\u001b[39mexpanduser()\n\u001b[0;32m----> 5\u001b[0m out_fp \u001b[39m=\u001b[39m download_era(date \u001b[39m=\u001b[39;49m ts, out_dir \u001b[39m=\u001b[39;49m out_dir, subset \u001b[39m=\u001b[39;49m area)\n\u001b[1;32m      7\u001b[0m ds \u001b[39m=\u001b[39m xr\u001b[39m.\u001b[39mopen_dataset(out_fp)\n",
      "Cell \u001b[0;32mIn[13], line 41\u001b[0m, in \u001b[0;36mdownload_era\u001b[0;34m(date, out_dir, subset)\u001b[0m\n\u001b[1;32m     39\u001b[0m \u001b[39massert\u001b[39;00m w \u001b[39m>\u001b[39m \u001b[39m-\u001b[39m\u001b[39m180\u001b[39m \u001b[39mand\u001b[39;00m w \u001b[39m<\u001b[39m \u001b[39m180\u001b[39m, \u001b[39mf\u001b[39m\u001b[39m\"\u001b[39m\u001b[39mWest bound: \u001b[39m\u001b[39m{\u001b[39;00mw\u001b[39m}\u001b[39;00m\u001b[39m is outside of globe\u001b[39m\u001b[39m\"\u001b[39m\n\u001b[1;32m     40\u001b[0m \u001b[39massert\u001b[39;00m e \u001b[39m>\u001b[39m \u001b[39m-\u001b[39m\u001b[39m180\u001b[39m \u001b[39mand\u001b[39;00m e \u001b[39m<\u001b[39m \u001b[39m180\u001b[39m, \u001b[39mf\u001b[39m\u001b[39m\"\u001b[39m\u001b[39mEast bound: \u001b[39m\u001b[39m{\u001b[39;00me\u001b[39m}\u001b[39;00m\u001b[39m is outside of globe\u001b[39m\u001b[39m\"\u001b[39m\n\u001b[0;32m---> 41\u001b[0m \u001b[39massert\u001b[39;00m n \u001b[39m>\u001b[39m \u001b[39m-\u001b[39m\u001b[39m90\u001b[39m \u001b[39mand\u001b[39;00m n \u001b[39m<\u001b[39m \u001b[39m90\u001b[39m, \u001b[39mf\u001b[39m\u001b[39m\"\u001b[39m\u001b[39mNorth bound: \u001b[39m\u001b[39m{\u001b[39;00mn\u001b[39m}\u001b[39;00m\u001b[39m is outside of globe\u001b[39m\u001b[39m\"\u001b[39m\n\u001b[1;32m     42\u001b[0m \u001b[39massert\u001b[39;00m s \u001b[39m>\u001b[39m \u001b[39m-\u001b[39m\u001b[39m90\u001b[39m \u001b[39mand\u001b[39;00m w \u001b[39m<\u001b[39m \u001b[39m90\u001b[39m, \u001b[39mf\u001b[39m\u001b[39m\"\u001b[39m\u001b[39mSouth bound: \u001b[39m\u001b[39m{\u001b[39;00ms\u001b[39m}\u001b[39;00m\u001b[39m is outside of globe\u001b[39m\u001b[39m\"\u001b[39m\n\u001b[1;32m     43\u001b[0m indict[\u001b[39m'\u001b[39m\u001b[39marea\u001b[39m\u001b[39m'\u001b[39m] \u001b[39m=\u001b[39m \u001b[39mf\u001b[39m\u001b[39m'\u001b[39m\u001b[39m/\u001b[39m\u001b[39m'\u001b[39m\u001b[39m.\u001b[39mjoin([\u001b[39mstr\u001b[39m(b) \u001b[39mfor\u001b[39;00m b \u001b[39min\u001b[39;00m [n, w, s, e]])\n",
      "\u001b[0;31mAssertionError\u001b[0m: North bound: 91.0 is outside of globe"
     ]
    }
   ],
   "source": [
    "area = geometry.box(-116, 91, -115, 46)\n",
    "ts = pd.to_datetime('2020-01-03T20:01:0000')\n",
    "out_dir = Path('/tmp').expanduser()\n",
    "\n",
    "out_fp = download_era(date = ts, out_dir = out_dir, subset = area)\n",
    "\n",
    "ds = xr.open_dataset(out_fp)\n"
   ]
  },
  {
   "cell_type": "code",
   "execution_count": 6,
   "metadata": {},
   "outputs": [
    {
     "name": "stderr",
     "output_type": "stream",
     "text": [
      "2023-05-04 11:24:41,083 INFO Welcome to the CDS\n",
      "2023-05-04 11:24:41,083 INFO Sending request to https://cds.climate.copernicus.eu/api/v2/resources/reanalysis-era5-pressure-levels\n",
      "2023-05-04 11:24:41,296 INFO Request is queued\n",
      "2023-05-04 11:24:42,474 INFO Request is failed\n",
      "2023-05-04 11:24:42,474 ERROR Message: the request you have submitted is not valid\n",
      "2023-05-04 11:24:42,474 ERROR Reason:  None of the data you have requested is available yet, please revise the period requested. The latest date available for this dataset is: 2023-04-29 17:24:41.905039\n",
      "2023-05-04 11:24:42,475 ERROR   Traceback (most recent call last):\n",
      "2023-05-04 11:24:42,475 ERROR     File \"/opt/cdstoolbox/cdscompute/cdscompute/cdshandlers/services/handler.py\", line 59, in handle_request\n",
      "2023-05-04 11:24:42,475 ERROR       result = cached(context.method, proc, context, context.args, context.kwargs)\n",
      "2023-05-04 11:24:42,475 ERROR     File \"/opt/cdstoolbox/cdscompute/cdscompute/caching.py\", line 108, in cached\n",
      "2023-05-04 11:24:42,476 ERROR       result = proc(context, *context.args, **context.kwargs)\n",
      "2023-05-04 11:24:42,476 ERROR     File \"/opt/cdstoolbox/cdscompute/cdscompute/services.py\", line 124, in __call__\n",
      "2023-05-04 11:24:42,476 ERROR       return p(*args, **kwargs)\n",
      "2023-05-04 11:24:42,477 ERROR     File \"/opt/cdstoolbox/cdscompute/cdscompute/services.py\", line 60, in __call__\n",
      "2023-05-04 11:24:42,477 ERROR       return self.proc(context, *args, **kwargs)\n",
      "2023-05-04 11:24:42,477 ERROR     File \"/home/cds/cdsservices/services/mars/mars.py\", line 48, in internal\n",
      "2023-05-04 11:24:42,477 ERROR       return mars(context, request, **kwargs)\n",
      "2023-05-04 11:24:42,478 ERROR     File \"/home/cds/cdsservices/services/mars/mars.py\", line 18, in mars\n",
      "2023-05-04 11:24:42,478 ERROR       **kwargs)\n",
      "2023-05-04 11:24:42,479 ERROR     File \"/home/cds/cdsservices/services/mars/preprocess_request.py\", line 36, in preprocess_request\n",
      "2023-05-04 11:24:42,479 ERROR       requests, fullconfig.get('embargo'), cacheable\n",
      "2023-05-04 11:24:42,479 ERROR     File \"/home/cds/cdsservices/services/mars/preprocess_request.py\", line 159, in implement_embargo\n",
      "2023-05-04 11:24:42,480 ERROR       f'The latest date available for this dataset is: {embargo_datetime}', ''\n",
      "2023-05-04 11:24:42,480 ERROR   cdsinf.exceptions.BadRequestException: None of the data you have requested is available yet, please revise the period requested. The latest date available for this dataset is: 2023-04-29 17:24:41.905039\n"
     ]
    },
    {
     "ename": "Exception",
     "evalue": "the request you have submitted is not valid. None of the data you have requested is available yet, please revise the period requested. The latest date available for this dataset is: 2023-04-29 17:24:41.905039.",
     "output_type": "error",
     "traceback": [
      "\u001b[0;31m---------------------------------------------------------------------------\u001b[0m",
      "\u001b[0;31mException\u001b[0m                                 Traceback (most recent call last)",
      "Cell \u001b[0;32mIn[6], line 2\u001b[0m\n\u001b[1;32m      1\u001b[0m ts \u001b[39m=\u001b[39m pd\u001b[39m.\u001b[39mto_datetime(\u001b[39m'\u001b[39m\u001b[39m2024-01-03T20:01:0000\u001b[39m\u001b[39m'\u001b[39m)\n\u001b[0;32m----> 2\u001b[0m out_fp \u001b[39m=\u001b[39m download_era(date \u001b[39m=\u001b[39;49m ts, out_dir \u001b[39m=\u001b[39;49m out_dir, subset \u001b[39m=\u001b[39;49m area)\n",
      "Cell \u001b[0;32mIn[4], line 39\u001b[0m, in \u001b[0;36mdownload_era\u001b[0;34m(date, out_dir, subset)\u001b[0m\n\u001b[1;32m     36\u001b[0m     indict[\u001b[39m'\u001b[39m\u001b[39marea\u001b[39m\u001b[39m'\u001b[39m] \u001b[39m=\u001b[39m \u001b[39mf\u001b[39m\u001b[39m'\u001b[39m\u001b[39m/\u001b[39m\u001b[39m'\u001b[39m\u001b[39m.\u001b[39mjoin([\u001b[39mstr\u001b[39m(b) \u001b[39mfor\u001b[39;00m b \u001b[39min\u001b[39;00m [n, w, s, e]])\n\u001b[1;32m     37\u001b[0m     out_fp \u001b[39m=\u001b[39m out_fp\u001b[39m.\u001b[39mwith_stem(\u001b[39mf\u001b[39m\u001b[39m\"\u001b[39m\u001b[39m{\u001b[39;00mout_fp\u001b[39m.\u001b[39mstem\u001b[39m}\u001b[39;00m\u001b[39m_\u001b[39m\u001b[39m{\u001b[39;00m\u001b[39m'\u001b[39m\u001b[39m_\u001b[39m\u001b[39m'\u001b[39m\u001b[39m.\u001b[39mjoin([\u001b[39mstr\u001b[39m(b)\u001b[39m \u001b[39m\u001b[39mfor\u001b[39;00m\u001b[39m \u001b[39mb\u001b[39m \u001b[39m\u001b[39min\u001b[39;00m\u001b[39m \u001b[39msubset\u001b[39m.\u001b[39mbounds])\u001b[39m}\u001b[39;00m\u001b[39m\"\u001b[39m)\n\u001b[0;32m---> 39\u001b[0m c\u001b[39m.\u001b[39;49mretrieve(\u001b[39m'\u001b[39;49m\u001b[39mreanalysis-era5-pressure-levels\u001b[39;49m\u001b[39m'\u001b[39;49m, indict, target\u001b[39m=\u001b[39;49mout_fp)\n\u001b[1;32m     41\u001b[0m \u001b[39mreturn\u001b[39;00m out_fp\n",
      "File \u001b[0;32m~/miniconda3/envs/validation/lib/python3.11/site-packages/cdsapi/api.py:364\u001b[0m, in \u001b[0;36mClient.retrieve\u001b[0;34m(self, name, request, target)\u001b[0m\n\u001b[1;32m    363\u001b[0m \u001b[39mdef\u001b[39;00m \u001b[39mretrieve\u001b[39m(\u001b[39mself\u001b[39m, name, request, target\u001b[39m=\u001b[39m\u001b[39mNone\u001b[39;00m):\n\u001b[0;32m--> 364\u001b[0m     result \u001b[39m=\u001b[39m \u001b[39mself\u001b[39;49m\u001b[39m.\u001b[39;49m_api(\u001b[39m\"\u001b[39;49m\u001b[39m%s\u001b[39;49;00m\u001b[39m/resources/\u001b[39;49m\u001b[39m%s\u001b[39;49;00m\u001b[39m\"\u001b[39;49m \u001b[39m%\u001b[39;49m (\u001b[39mself\u001b[39;49m\u001b[39m.\u001b[39;49murl, name), request, \u001b[39m\"\u001b[39;49m\u001b[39mPOST\u001b[39;49m\u001b[39m\"\u001b[39;49m)\n\u001b[1;32m    365\u001b[0m     \u001b[39mif\u001b[39;00m target \u001b[39mis\u001b[39;00m \u001b[39mnot\u001b[39;00m \u001b[39mNone\u001b[39;00m:\n\u001b[1;32m    366\u001b[0m         result\u001b[39m.\u001b[39mdownload(target)\n",
      "File \u001b[0;32m~/miniconda3/envs/validation/lib/python3.11/site-packages/cdsapi/api.py:519\u001b[0m, in \u001b[0;36mClient._api\u001b[0;34m(self, url, request, method)\u001b[0m\n\u001b[1;32m    517\u001b[0m             \u001b[39mbreak\u001b[39;00m\n\u001b[1;32m    518\u001b[0m         \u001b[39mself\u001b[39m\u001b[39m.\u001b[39merror(\u001b[39m\"\u001b[39m\u001b[39m  \u001b[39m\u001b[39m%s\u001b[39;00m\u001b[39m\"\u001b[39m, n)\n\u001b[0;32m--> 519\u001b[0m     \u001b[39mraise\u001b[39;00m \u001b[39mException\u001b[39;00m(\n\u001b[1;32m    520\u001b[0m         \u001b[39m\"\u001b[39m\u001b[39m%s\u001b[39;00m\u001b[39m. \u001b[39m\u001b[39m%s\u001b[39;00m\u001b[39m.\u001b[39m\u001b[39m\"\u001b[39m\n\u001b[1;32m    521\u001b[0m         \u001b[39m%\u001b[39m (reply[\u001b[39m\"\u001b[39m\u001b[39merror\u001b[39m\u001b[39m\"\u001b[39m]\u001b[39m.\u001b[39mget(\u001b[39m\"\u001b[39m\u001b[39mmessage\u001b[39m\u001b[39m\"\u001b[39m), reply[\u001b[39m\"\u001b[39m\u001b[39merror\u001b[39m\u001b[39m\"\u001b[39m]\u001b[39m.\u001b[39mget(\u001b[39m\"\u001b[39m\u001b[39mreason\u001b[39m\u001b[39m\"\u001b[39m))\n\u001b[1;32m    522\u001b[0m     )\n\u001b[1;32m    524\u001b[0m \u001b[39mraise\u001b[39;00m \u001b[39mException\u001b[39;00m(\u001b[39m\"\u001b[39m\u001b[39mUnknown API state [\u001b[39m\u001b[39m%s\u001b[39;00m\u001b[39m]\u001b[39m\u001b[39m\"\u001b[39m \u001b[39m%\u001b[39m (reply[\u001b[39m\"\u001b[39m\u001b[39mstate\u001b[39m\u001b[39m\"\u001b[39m],))\n",
      "\u001b[0;31mException\u001b[0m: the request you have submitted is not valid. None of the data you have requested is available yet, please revise the period requested. The latest date available for this dataset is: 2023-04-29 17:24:41.905039."
     ]
    }
   ],
   "source": [
    "ts = pd.to_datetime('2024-01-03T20:01:0000')\n",
    "out_fp = download_era(date = ts, out_dir = out_dir, subset = area)\n"
   ]
  }
 ],
 "metadata": {
  "kernelspec": {
   "display_name": "validation",
   "language": "python",
   "name": "python3"
  },
  "language_info": {
   "codemirror_mode": {
    "name": "ipython",
    "version": 3
   },
   "file_extension": ".py",
   "mimetype": "text/x-python",
   "name": "python",
   "nbconvert_exporter": "python",
   "pygments_lexer": "ipython3",
   "version": "3.11.3"
  },
  "orig_nbformat": 4
 },
 "nbformat": 4,
 "nbformat_minor": 2
}
