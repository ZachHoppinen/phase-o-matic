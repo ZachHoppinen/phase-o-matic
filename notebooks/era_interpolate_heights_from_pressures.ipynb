{
 "cells": [
  {
   "cell_type": "code",
   "execution_count": 1,
   "metadata": {},
   "outputs": [
    {
     "data": {
      "text/plain": [
       "'Interpolates the pressure level data to altitude.\\n\\n    Args:\\n        * lvls (np.ndarray) : Pressure levels.\\n        * hgt  (np.ndarray) : Height values for interpolation.\\n        * gph  (np.ndarray) : Geopotential height.\\n        * tmp  (np.ndarray) : Temperature.\\n        * vpr  (np.ndarray) : Vapor pressure.\\n        * cdic (dict)       : Dictionary of constants.\\n\\n    .. note::\\n        gph,tmp,vpr are of size (nstn,nlvls).\\n\\n    Returns:\\n        * Presi (np.ndarray): Interpolated pressure.\\n        * Tempi (np.ndarray): Interpolated temperature.\\n        * Vpri  (np.ndarray): Interpolated vapor pressure.\\n\\n    .. note::\\n        Cubic splines are used to convert pressure level data to height level data.'"
      ]
     },
     "execution_count": 1,
     "metadata": {},
     "output_type": "execute_result"
    }
   ],
   "source": [
    "#https://github.com/insarlab/PyAPS/blob/244552cdfcf4e1a55de5f1439be4f08eb45872ec/src/pyaps3/processor.py#L56\n",
    "\n",
    "'''Interpolates the pressure level data to altitude.\n",
    "\n",
    "    Args:\n",
    "        * lvls (np.ndarray) : Pressure levels.\n",
    "        * hgt  (np.ndarray) : Height values for interpolation.\n",
    "        * gph  (np.ndarray) : Geopotential height.\n",
    "        * tmp  (np.ndarray) : Temperature.\n",
    "        * vpr  (np.ndarray) : Vapor pressure.\n",
    "        * cdic (dict)       : Dictionary of constants.\n",
    "\n",
    "    .. note::\n",
    "        gph,tmp,vpr are of size (nstn,nlvls).\n",
    "\n",
    "    Returns:\n",
    "        * Presi (np.ndarray): Interpolated pressure.\n",
    "        * Tempi (np.ndarray): Interpolated temperature.\n",
    "        * Vpri  (np.ndarray): Interpolated vapor pressure.\n",
    "\n",
    "    .. note::\n",
    "        Cubic splines are used to convert pressure level data to height level data.'''"
   ]
  }
 ],
 "metadata": {
  "kernelspec": {
   "display_name": "validation",
   "language": "python",
   "name": "python3"
  },
  "language_info": {
   "codemirror_mode": {
    "name": "ipython",
    "version": 3
   },
   "file_extension": ".py",
   "mimetype": "text/x-python",
   "name": "python",
   "nbconvert_exporter": "python",
   "pygments_lexer": "ipython3",
   "version": "3.11.3"
  },
  "orig_nbformat": 4
 },
 "nbformat": 4,
 "nbformat_minor": 2
}
