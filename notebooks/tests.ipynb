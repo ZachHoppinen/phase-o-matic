{
 "cells": [
  {
   "cell_type": "code",
   "execution_count": 1,
   "metadata": {},
   "outputs": [],
   "source": [
    "from shapely import geometry\n",
    "import numpy as np\n",
    "import pandas as pd\n",
    "import xarray as xr\n",
    "from pathlib import Path\n",
    "\n",
    "import sys\n",
    "sys.path.append('./')\n",
    "sys.path.append('../')\n",
    "from phase_o_matic.phase_delay import calculate_wet_refractivity, calculate_refractive_indexes, get_delay"
   ]
  },
  {
   "cell_type": "code",
   "execution_count": 2,
   "metadata": {},
   "outputs": [],
   "source": [
    "np.random.seed(1)\n",
    "heights = np.linspace(-200, 40000, 300)\n",
    "lats = np.linspace(43, 45, 10).astype('float32')\n",
    "lons = np.linspace(-116, -115, 13).astype('float32')\n",
    "test_ds = xr.Dataset(\n",
    "    {\n",
    "        'air_pressure': (['time','latitude', 'longitude','height'], 100*np.random.random((1, 10, 13, 300)).astype('float32'), {'units':'pascals', 'long_name':'pressure_level'}),\n",
    "        'temperature': (['time','latitude', 'longitude','height'], np.random.random((1, 10, 13, 300)).astype('float32'), {'units' :'K', 'long_name' :'Temperature', 'standard_name' :'air_temperature'}),\n",
    "        'vapor_pressure': (['time','latitude', 'longitude','height'], np.random.random((1, 10, 13, 300)).astype('float32'), {'units': 'pascals'}),\n",
    "    },  \n",
    "    coords = {\n",
    "        \"longitude\" : ([\"longitude\"], lons, {'units' :'degrees_east', 'long_name' :'longitude'}),\n",
    "        \"latitude\" : ([\"latitude\"], lats, {'units' :'degrees_north', 'long_name' :'latitude'}),\n",
    "        \"height\" : ([\"height\"], heights, {'units' : 'meters', 'long_name' :'geopotential_heights'}),\n",
    "        \"time\" : ([\"time\"], [pd.to_datetime('2020-01-04T09:00')], {'long_name' :'time'}),\n",
    "    },\n",
    "    attrs={'Conventions' :'CF-1.6', 'history' :'2023-05-04 17:03:14 GMT by grib_'}\n",
    ")\n",
    "\n",
    "test_ds = calculate_refractive_indexes(test_ds)"
   ]
  },
  {
   "cell_type": "code",
   "execution_count": 6,
   "metadata": {},
   "outputs": [],
   "source": [
    "dem = xr.DataArray(np.linspace(1000, 3000, 200*300).reshape(200, 300),\n",
    "                   coords = [np.linspace(43, 45, 200), np.linspace(-116, -115, 300)],\n",
    "                   dims = ['latitude','longitude']\n",
    ")\n",
    "\n",
    "inc = xr.DataArray(np.linspace(0, np.deg2rad(90), 200*300).reshape(200, 300),\n",
    "                   coords = [np.linspace(43, 45, 200), np.linspace(-116, -115, 300)],\n",
    "                   dims = ['latitude','longitude']\n",
    ")\n",
    "\n",
    "# dem_ds = dem.to_dataset(name = 'dem')\n",
    "# dem_ds['inc'] = inc"
   ]
  },
  {
   "cell_type": "code",
   "execution_count": 9,
   "metadata": {},
   "outputs": [
    {
     "data": {
      "text/plain": [
       "True"
      ]
     },
     "execution_count": 9,
     "metadata": {},
     "output_type": "execute_result"
    }
   ],
   "source": [
    "None == None"
   ]
  },
  {
   "cell_type": "code",
   "execution_count": 5,
   "metadata": {},
   "outputs": [
    {
     "ename": "ModuleNotFoundError",
     "evalue": "No module named 'pandas._libs.tslibs.par'",
     "output_type": "error",
     "traceback": [
      "\u001b[0;31m---------------------------------------------------------------------------\u001b[0m",
      "\u001b[0;31mModuleNotFoundError\u001b[0m                       Traceback (most recent call last)",
      "Cell \u001b[0;32mIn[5], line 2\u001b[0m\n\u001b[1;32m      1\u001b[0m \u001b[39mimport\u001b[39;00m \u001b[39mpandas\u001b[39;00m \u001b[39mas\u001b[39;00m \u001b[39mpd\u001b[39;00m\n\u001b[0;32m----> 2\u001b[0m \u001b[39mfrom\u001b[39;00m \u001b[39mpandas\u001b[39;00m\u001b[39m.\u001b[39;00m\u001b[39m_libs\u001b[39;00m\u001b[39m.\u001b[39;00m\u001b[39mtslibs\u001b[39;00m\u001b[39m.\u001b[39;00m\u001b[39mpar\u001b[39;00m \u001b[39mimport\u001b[39;00m (DateParseError)\n\u001b[1;32m      4\u001b[0m pd\u001b[39m.\u001b[39mto_datetime(\u001b[39m'\u001b[39m\u001b[39maufhdaks\u001b[39m\u001b[39m'\u001b[39m)\n",
      "\u001b[0;31mModuleNotFoundError\u001b[0m: No module named 'pandas._libs.tslibs.par'"
     ]
    }
   ],
   "source": [
    "import pandas as pd\n",
    "from pandas._libs.tslibs.par import (DateParseError)\n",
    "\n",
    "pd.to_datetime('aufhdaks')"
   ]
  }
 ],
 "metadata": {
  "kernelspec": {
   "display_name": "phaseo",
   "language": "python",
   "name": "python3"
  },
  "language_info": {
   "codemirror_mode": {
    "name": "ipython",
    "version": 3
   },
   "file_extension": ".py",
   "mimetype": "text/x-python",
   "name": "python",
   "nbconvert_exporter": "python",
   "pygments_lexer": "ipython3",
   "version": "3.11.3"
  },
  "orig_nbformat": 4
 },
 "nbformat": 4,
 "nbformat_minor": 2
}
